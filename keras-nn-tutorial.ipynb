{
 "cells": [
  {
   "cell_type": "markdown",
   "metadata": {},
   "source": [
    "# keras-nn-tutorial\n",
    "\n",
    "Basic tutorial for training feed-forward neural networks with the Keras library. This tutorial is an extension of: https://github.com/helgster77/genetic-nn-tutorial\n",
    "\n",
    "Dependencies are Tensorflow and Keras:\n",
    "\n",
    "pip install tensorflow\n",
    "pip install keras\n",
    "\n",
    "Keras is a high-level deep learning library that takes care of loading Tensorflow by itself, to Tensorflow is never explicitly used in this code. Keras also works with other back-ends than Tensorflow.\n"
   ]
  },
  {
   "cell_type": "code",
   "execution_count": null,
   "metadata": {},
   "outputs": [],
   "source": [
    "!pip install keras\n",
    "!pip install tensorflow\n",
    "\n",
    "import random\n",
    "import numpy as np\n",
    "import math\n",
    "import matplotlib.pyplot as plt\n",
    "from keras.models import Sequential\n",
    "from keras.layers import Dense "
   ]
  },
  {
   "cell_type": "code",
   "execution_count": null,
   "metadata": {},
   "outputs": [],
   "source": [
    "# Our dataset\n",
    "dataset = []\n",
    "\n",
    "# Where to start the X's\n",
    "x_runner = -4.0\n",
    "increment = 0.01\n",
    "number_of_samples = 800\n",
    "\n",
    "# Generate the dataset, we're going to learn the cos(x) function\n",
    "for i in range(number_of_samples):\n",
    "    dataset.append([x_runner, math.cos(x_runner)])\n",
    "    x_runner += increment"
   ]
  },
  {
   "cell_type": "code",
   "execution_count": null,
   "metadata": {},
   "outputs": [],
   "source": [
    "# Plot the whole dataset\n",
    "fig = plt.figure(figsize=(12, 8))\n",
    "plt.plot(list(item[0] for item in dataset), list(item[1] for item in dataset))\n",
    "fig.suptitle('Cosine function')\n",
    "plt.xlabel('x', fontsize=18)\n",
    "plt.ylabel('cos(x)', fontsize=16)\n",
    "plt.show()\n"
   ]
  },
  {
   "cell_type": "code",
   "execution_count": null,
   "metadata": {},
   "outputs": [],
   "source": [
    "# Split into training and testing sets\n",
    "training_dataset = dataset[:600]\n",
    "testing_dataset = dataset[-200:]\n",
    "# Training inputs\n",
    "x_training = list(item[0] for item in training_dataset)\n",
    "# Training outputs\n",
    "y_training = list(item[1] for item in training_dataset)\n",
    "# Testing inputs\n",
    "x_testing = list(item[0] for item in testing_dataset)\n",
    "# Testing outputs\n",
    "y_testing = list(item[1] for item in testing_dataset)\n",
    "\n",
    "# Plot training and testing datasets\n",
    "fig = plt.figure(figsize=(12, 8))\n",
    "fig.suptitle('Training and testing data')\n",
    "plt.plot(x_training, y_training, color='green')\n",
    "plt.plot(x_testing, y_testing, color='blue')\n",
    "plt.xlabel('x', fontsize=18)\n",
    "plt.ylabel('cos(x)', fontsize=16)\n",
    "plt.show()\n"
   ]
  },
  {
   "cell_type": "code",
   "execution_count": null,
   "metadata": {},
   "outputs": [],
   "source": [
    "# Shuffle the dataset to make the training and testing sets more evenly distributed\n",
    "random.shuffle(dataset)\n",
    "\n",
    "# Redo the split\n",
    "# Split into training and testing sets\n",
    "training_dataset = dataset[:600]\n",
    "testing_dataset = dataset[-200:]\n",
    "# Training inputs\n",
    "x_training = list(item[0] for item in training_dataset)\n",
    "# Training outputs\n",
    "y_training = list(item[1] for item in training_dataset)\n",
    "# Testing inputs\n",
    "x_testing = list(item[0] for item in testing_dataset)\n",
    "# Testing outputs\n",
    "y_testing = list(item[1] for item in testing_dataset)\n",
    "\n",
    "# Normalize X values\n",
    "for i in range(len(x_training)):\n",
    "    x_training[i] = x_training[i] / (200*increment - 100*increment)\n",
    "\n",
    "for i in range(len(x_testing)):\n",
    "    x_testing[i] = x_testing[i] / (200*increment - 100*increment)\n",
    "\n",
    "\n",
    "# Plot training and testing datasets\n",
    "fig = plt.figure(figsize=(12, 8))\n",
    "fig.suptitle('Training and testing data (randomized)')\n",
    "plt.scatter(x_training, y_training, color='green')\n",
    "plt.scatter(x_testing, y_testing, color='blue')\n",
    "plt.xlabel('x', fontsize=18)\n",
    "plt.ylabel('cos(x)', fontsize=16)\n",
    "plt.show()\n",
    "\n",
    "# Convert to Numpy arrays\n",
    "x_training = np.array(x_training)\n",
    "x_testing = np.array(x_testing)\n",
    "y_training = np.array(y_training)\n",
    "y_testing = np.array(y_testing)"
   ]
  },
  {
   "cell_type": "code",
   "execution_count": null,
   "metadata": {},
   "outputs": [],
   "source": [
    "# Create our model. Sequential means that we will gradually add things to our model, from input to output.\n",
    "model = Sequential()\n",
    "\n",
    "# We need to add our hidden layer. Like before, we use RELU and have only one input. \n",
    "# Dense is a type neural network layer that is fully connected to the inputs.\n",
    "# Note that the input layer is implicitly created.\n",
    "model.add(Dense(units=20, activation='relu', input_dim=1))\n",
    "\n",
    "# Then we create our output layer. It uses linear activitation like before.\n",
    "model.add(Dense(units=1, activation='linear'))\n",
    "\n",
    "# With all layers in place, Keras will compile the model and make it ready for use.\n",
    "# We will use a stochastic gradient descent (SGD) optimizer and use mean-squared error (MSE) to \n",
    "# measure model quality. Note that the previous tutorial used sum-squared error (SSE).\n",
    "# They are very similar but Keras does not support SSE.\n",
    "model.compile(loss='mean_squared_error',\n",
    "              optimizer='adam',\n",
    "              metrics=['accuracy'])"
   ]
  },
  {
   "cell_type": "code",
   "execution_count": null,
   "metadata": {},
   "outputs": [],
   "source": [
    "# Here we perform the model training/learning.\n",
    "model.fit(x_training, y_training, epochs=2000, batch_size=16)"
   ]
  },
  {
   "cell_type": "code",
   "execution_count": null,
   "metadata": {},
   "outputs": [],
   "source": [
    "# Now lets apply the trained model to the both training and testing data.\n",
    "y_training_results = model.predict(x_training)\n",
    "y_testing_results = model.predict(x_testing)"
   ]
  },
  {
   "cell_type": "code",
   "execution_count": null,
   "metadata": {},
   "outputs": [],
   "source": [
    "# Plot function currently learned\n",
    "fig = plt.figure(figsize=(12, 8))\n",
    "plt.scatter(x_training, y_training, color='green')\n",
    "plt.scatter(x_training, y_training_results, color='red')\n",
    "fig.suptitle('Training data versus learned function')\n",
    "plt.ylabel('cos(x)')\n",
    "plt.xlabel('x normalized')\n",
    "plt.show()"
   ]
  },
  {
   "cell_type": "code",
   "execution_count": null,
   "metadata": {},
   "outputs": [],
   "source": [
    "# Plot results vs \"ground truth\"# Plot re \n",
    "fig = plt.figure(figsize=(12, 8))\n",
    "plt.scatter(x_training, y_training, color='green')\n",
    "plt.scatter(x_testing, y_testing, color='blue')\n",
    "plt.scatter(x_testing, y_testing_results, color='red')\n",
    "fig.suptitle('Training, testing and result data')\n",
    "plt.ylabel('cos(x)')\n",
    "plt.xlabel('x normalized')\n",
    "plt.show()"
   ]
  }
 ],
 "metadata": {
  "kernelspec": {
   "display_name": "Python 3 (ipykernel)",
   "language": "python",
   "name": "python3"
  },
  "language_info": {
   "codemirror_mode": {
    "name": "ipython",
    "version": 3
   },
   "file_extension": ".py",
   "mimetype": "text/x-python",
   "name": "python",
   "nbconvert_exporter": "python",
   "pygments_lexer": "ipython3",
   "version": "3.10.12"
  }
 },
 "nbformat": 4,
 "nbformat_minor": 2
}
